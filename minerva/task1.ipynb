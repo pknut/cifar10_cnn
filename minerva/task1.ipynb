{
 "cells": [
  {
   "cell_type": "markdown",
   "metadata": {},
   "source": [
    "# Instructions\n",
    "\n",
    "Build your deep learing model. \n",
    "\n",
    "Keep in mind that:\n",
    "\n",
    "![query](http://i1.kym-cdn.com/photos/images/newsfeed/000/531/557/a88.jpg)\n",
    "\n",
    "Build Keras Model builder that takes as an input:\n",
    "\n",
    "- target_size - your image width and heigth which for this dataset is 28\n",
    "\n",
    "- classes - this dataset contains 10 classes\n",
    "    \n",
    "Your function should output:\n",
    "- keras compiled model object (functional API)\n",
    "- your keras model should have:\n",
    "    - 2 convolutional blocks followed by max pooling \n",
    "    - Each block should have 2 layers of 16 3x3 filters\n",
    "    - On top of that you should put two fully connected layers of 256 units\n",
    "    - Use dropout of 0.5 to reduce overfitting\n",
    "\n",
    "Specify your parameterers in the `CONFIG` dictionary. Remember that everything that you specify in the `CONFIG` dict goes into this model builder.\n",
    "\n",
    "If you feel you need more basic info about above ideas, please check [First steps in deep learning](https://github.com/neptune-ml/minerva/wiki/First-steps-in-deep-learning) in our wiki for useful links."
   ]
  },
  {
   "cell_type": "markdown",
   "metadata": {},
   "source": [
    "# Your Solution\n",
    "Your solution function should be called solution. \n",
    "\n",
    "CONFIG is a dictionary with all parameters that you want to pass to your solution function"
   ]
  },
  {
   "cell_type": "code",
   "execution_count": 2,
   "metadata": {},
   "outputs": [
    {
     "name": "stderr",
     "output_type": "stream",
     "text": [
      "/usr/local/lib/python3.5/dist-packages/h5py/__init__.py:34: FutureWarning: Conversion of the second argument of issubdtype from `float` to `np.floating` is deprecated. In future, it will be treated as `np.float64 == np.dtype(float).type`.\n",
      "  from ._conv import register_converters as _register_converters\n",
      "Using TensorFlow backend.\n"
     ]
    }
   ],
   "source": [
    "from keras.models import Model\n",
    "from keras.layers import Flatten, Dense, Dropout, BatchNormalization, Input, Conv2D, MaxPool2D"
   ]
  },
  {
   "cell_type": "code",
   "execution_count": 3,
   "metadata": {},
   "outputs": [],
   "source": [
    "CONFIG = {'input_size':28,\n",
    "          'classes':10}\n",
    "\n",
    "def solution(input_size, classes):\n",
    "    input_shape = (input_size, input_size, 1)\n",
    "    images = Input(shape=input_shape)\n",
    "    \n",
    "    x = Conv2D(32, (3,3), activation='relu')(images)\n",
    "    x = Conv2D(32, (3,3), activation='relu')(x)\n",
    "    x = MaxPool2D()(x)\n",
    "    x = BatchNormalization()(x)\n",
    "    \n",
    "    x = Conv2D(64, (3,3), activation='relu')(x)\n",
    "    x = Conv2D(64, (3,3), activation='relu')(x)\n",
    "    x = MaxPool2D()(x)\n",
    "    \n",
    "    x = Flatten()(x)\n",
    "    x = Dense(512, activation='relu')(x)\n",
    "    x = Dense(512, activation='relu')(x)\n",
    "    x = Dropout(0.5)(x)\n",
    "    \n",
    "    predictions = Dense(classes, activation='softmax', name='output')(x)\n",
    "    model = Model(inputs=images, outputs=predictions)\n",
    "    return model\n"
   ]
  },
  {
   "cell_type": "markdown",
   "metadata": {},
   "source": [
    "# Define helper functions and classes and use them in your solution"
   ]
  },
  {
   "cell_type": "code",
   "execution_count": null,
   "metadata": {
    "collapsed": true
   },
   "outputs": [],
   "source": []
  }
 ],
 "metadata": {
  "kernelspec": {
   "display_name": "Python 3",
   "language": "python",
   "name": "python3"
  },
  "language_info": {
   "codemirror_mode": {
    "name": "ipython",
    "version": 3
   },
   "file_extension": ".py",
   "mimetype": "text/x-python",
   "name": "python",
   "nbconvert_exporter": "python",
   "pygments_lexer": "ipython3",
   "version": "3.5.2"
  },
  "toc": {
   "colors": {
    "hover_highlight": "#DAA520",
    "running_highlight": "#FF0000",
    "selected_highlight": "#FFD700"
   },
   "moveMenuLeft": true,
   "nav_menu": {
    "height": "64px",
    "width": "255px"
   },
   "navigate_menu": true,
   "number_sections": true,
   "sideBar": true,
   "threshold": 4,
   "toc_cell": false,
   "toc_section_display": "block",
   "toc_window_display": false
  }
 },
 "nbformat": 4,
 "nbformat_minor": 1
}
